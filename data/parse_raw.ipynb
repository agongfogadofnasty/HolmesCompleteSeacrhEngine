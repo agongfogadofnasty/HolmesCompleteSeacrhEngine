{
 "cells": [
  {
   "cell_type": "code",
   "execution_count": 1,
   "metadata": {},
   "outputs": [],
   "source": [
    "import os"
   ]
  },
  {
   "cell_type": "code",
   "execution_count": 10,
   "metadata": {},
   "outputs": [],
   "source": [
    "with open(\"sherlock.txt\", \"r\") as file:\n",
    "    text = file.read().split('\\n')"
   ]
  },
  {
   "cell_type": "code",
   "execution_count": 11,
   "metadata": {},
   "outputs": [
    {
     "name": "stdout",
     "output_type": "stream",
     "text": [
      "76765\n"
     ]
    }
   ],
   "source": [
    "print(len(text))"
   ]
  },
  {
   "cell_type": "markdown",
   "metadata": {},
   "source": [
    "We see that there's only 76765 lines in this text. Because the structure of the text is too unstructrued to parse using a single logic, we'll do the dirty job to parse them work by work"
   ]
  },
  {
   "cell_type": "code",
   "execution_count": 132,
   "metadata": {},
   "outputs": [],
   "source": [
    "records = list([])"
   ]
  },
  {
   "cell_type": "code",
   "execution_count": 128,
   "metadata": {},
   "outputs": [],
   "source": [
    "# A study in scarlet\n",
    "scarlet = text[98:4956]\n",
    "with open('A Study in Scarlet'.upper() + '.txt', \"w\") as file:\n",
    "    file.write(\"\\n\".join(scarlet))"
   ]
  },
  {
   "cell_type": "code",
   "execution_count": 123,
   "metadata": {},
   "outputs": [],
   "source": [
    "def get_chapters(story, part_name, part, no_chapter=False, chapter_name=None):\n",
    "    chapter_list = list([])\n",
    "    if no_chapter:\n",
    "        chapter_list.append(dict({\"story\": story,\n",
    "                                  \"part\": part_name,\n",
    "                                  \"chapter\": \"NO CHAPTER\" if chapter_name is None else chapter_name,\n",
    "                                  \"text\": list([])}))\n",
    "        for i in range(len(part)):\n",
    "            line = part[i].strip()\n",
    "            if len(line) > 0 and (i==0 or part[i-1].strip() == \"\"):\n",
    "                chapter_list[-1][\"text\"].append(line)\n",
    "            elif len(line) > 0 and part[i-1] != \"\":\n",
    "                chapter_list[-1][\"text\"][-1] += (\" \" + line) \n",
    "    for i in range(len(part)):\n",
    "        line = part[i].strip()\n",
    "        if \"CHAPTER\" in line:\n",
    "            chapter_name = \" \".join([line, part[i+1].strip()]) if part[i+1].strip()!=\"\" else line\n",
    "            print(chapter_name)\n",
    "            chapter_list.append(dict({\"story\": story,\n",
    "                                      \"part\": part_name,\n",
    "                                      \"chapter\": chapter_name, \n",
    "                                      \"text\": list([])}))\n",
    "        elif i==0 or \"CHAPTER\" in part[i-1]:\n",
    "            continue\n",
    "        elif len(line) > 0 and part[i-1] == \"\":\n",
    "            chapter_list[-1][\"text\"].append(line)\n",
    "        elif len(line) > 0 and part[i-1] != \"\":\n",
    "            chapter_list[-1][\"text\"][-1] += (\" \" + line)  \n",
    "    return chapter_list"
   ]
  },
  {
   "cell_type": "code",
   "execution_count": 133,
   "metadata": {},
   "outputs": [
    {
     "name": "stdout",
     "output_type": "stream",
     "text": [
      "CHAPTER I Mr. Sherlock Holmes\n",
      "CHAPTER II The Science Of Deduction\n",
      "CHAPTER III The Lauriston Garden Mystery\n",
      "CHAPTER IV What John Rance Had To Tell\n",
      "CHAPTER V Our Advertisement Brings A Visitor\n",
      "CHAPTER VI Tobias Gregson Shows What He Can Do\n",
      "CHAPTER VII Light In The Darkness\n",
      "CHAPTER I On The Great Alkali Plain\n",
      "CHAPTER II The Flower Of Utah\n",
      "CHAPTER III John Ferrier Talks With The Prophet\n",
      "CHAPTER IV A Flight For Life\n",
      "CHAPTER V The Avenging Angels\n",
      "CHAPTER VI A Continuation Of The Reminiscences Of John Watson, M.D.\n",
      "CHAPTER VII The Conclusion\n"
     ]
    }
   ],
   "source": [
    "scarlet_part_1 = get_chapters(\"A Study in Scarlet\".upper(), \"PART I\", scarlet[54:2585])\n",
    "scarlet_part_2 = get_chapters(\"A Study in Scarlet\".upper(), \"PART II\", scarlet[2601:])\n",
    "scarlet_part = scarlet_part_1 + scarlet_part_2\n",
    "records += scarlet_part"
   ]
  },
  {
   "cell_type": "code",
   "execution_count": 134,
   "metadata": {},
   "outputs": [
    {
     "name": "stdout",
     "output_type": "stream",
     "text": [
      "CHAPTER I The Science of Deduction\n",
      "CHAPTER II The Statement of the Case\n",
      "CHAPTER III In Quest of a Solution\n",
      "CHAPTER IV The Story of the Bald-Headed Man\n",
      "CHAPTER V The Tragedy of Pondicherry Lodge\n",
      "CHAPTER VI Sherlock Holmes Gives a Demonstration\n",
      "CHAPTER VII The Episode of the Barrel\n",
      "CHAPTER VIII The Baker Street Irregulars\n",
      "CHAPTER IX A Break in the Chain\n",
      "CHAPTER X The End of the Islander\n",
      "CHAPTER XI The Great Agra Treasure\n",
      "CHAPTER XII The Strange Story of Jonathan Small\n"
     ]
    }
   ],
   "source": [
    "# The Sign of the Four\n",
    "four = text[4961:9638]\n",
    "with open('A Sign of the Four'.upper() + '.txt', \"w\") as file:\n",
    "    file.write(\"\\n\".join(four))\n",
    "four_part = get_chapters(\"A Sign of the Four\".upper(), \"NO PART\", four[34:])\n",
    "records += four_part"
   ]
  },
  {
   "cell_type": "code",
   "execution_count": 124,
   "metadata": {},
   "outputs": [],
   "source": [
    "def parse_no_part(story_name, page_start, page_end, content_start, content_end, no_chapter=False, chapter_name=None):\n",
    "    story_name = story_name.replace('\"', '%')\n",
    "    with open(story_name+\".txt\", \"w\") as file:\n",
    "        file.write(\"\\n\".join(text[page_start: page_end]))\n",
    "    return get_chapters(story_name, \"NO PART\", text[content_start: content_end], no_chapter, chapter_name)"
   ]
  },
  {
   "cell_type": "code",
   "execution_count": 136,
   "metadata": {},
   "outputs": [
    {
     "name": "stdout",
     "output_type": "stream",
     "text": [
      "CHAPTER I\n",
      "CHAPTER II\n",
      "CHAPTER III\n"
     ]
    }
   ],
   "source": [
    "# THE ADVENTURES OF SHERLOCK HOLMES \n",
    "bohemia_part = parse_no_part(\"A SCANDAL IN BOHEMIA\", 9649, 11219, 9674,11219)\n",
    "short_titles = [\"The Red-Headed League\",\n",
    "               \"A Case of Identity\",\n",
    "               \"The Boscombe Valley Mystery\",\n",
    "               \"The Five Orange Pips\",\n",
    "               \"The Man with the Twisted Lip\",\n",
    "               \"The Adventure of the Blue Carbuncle\",\n",
    "               \"The Adventure of the Speckled Band\",\n",
    "               \"The Adventure of the Engineer's Thumb\",\n",
    "               \"The Adventure of the Noble Bachelor\",\n",
    "              \"The Adventure of the Beryl Coronet\",\n",
    "               \"The Adventure of the Copper Beeches\"]\n",
    "short_titles = [ele.upper() for ele in short_titles]\n",
    "short_stories_parts = list([])\n",
    "start_idx = 10778\n",
    "end_idx = 21785\n",
    "sen_idx = start_idx\n",
    "num_titles = len(short_titles)\n",
    "for i in range(num_titles):\n",
    "    if i != num_titles - 1:\n",
    "        while short_titles[i+1] not in text[sen_idx]:\n",
    "            sen_idx += 1\n",
    "        short_stories_parts.append(parse_no_part(short_titles[i], start_idx, sen_idx-1, start_idx+1, sen_idx-1, True))\n",
    "        start_idx = sen_idx\n",
    "    else:\n",
    "        short_stories_parts.append(parse_no_part(short_titles[-1], start_idx, end_idx, start_idx+1, end_idx, True))\n",
    "adventure_parts = [bohemia_part] + short_stories_parts "
   ]
  },
  {
   "cell_type": "code",
   "execution_count": 137,
   "metadata": {},
   "outputs": [],
   "source": [
    "for chapter in adventure_parts:\n",
    "    records += chapter"
   ]
  },
  {
   "cell_type": "code",
   "execution_count": 108,
   "metadata": {},
   "outputs": [],
   "source": [
    "# MEMORIS \n",
    "short_titles = [\"Silver Blaze\",\n",
    "               \"The Yellow Face\",\n",
    "               \"The Stock-Broker's Clerk\",\n",
    "               'The \"Gloria Scott\"',\n",
    "               \"The Musgrave Ritual\",\n",
    "               \"The Reigate Squires\",\n",
    "               \"The Crooked Man\",\n",
    "               \"The Resident Patient\",\n",
    "               \"The Greek Interpreter\",\n",
    "               \"The Naval Treaty\",\n",
    "               \"The Final Problem\"]\n",
    "short_titles = [ele.upper() for ele in short_titles]\n",
    "short_stories_parts = list([])\n",
    "start_idx = 21796\n",
    "end_idx = 31855\n",
    "sen_idx = start_idx\n",
    "num_titles = len(short_titles)\n",
    "for i in range(num_titles):\n",
    "    if i != num_titles - 1:\n",
    "        while short_titles[i+1] not in text[sen_idx]:\n",
    "            sen_idx += 1\n",
    "        short_stories_parts.append(parse_no_part(short_titles[i], start_idx, sen_idx-1, start_idx+1, sen_idx-1, True))\n",
    "        start_idx = sen_idx\n",
    "    else:\n",
    "        short_stories_parts.append(parse_no_part(short_titles[-1], start_idx, end_idx, start_idx+1, end_idx, True))\n",
    "memoirs_parts = short_stories_parts"
   ]
  },
  {
   "cell_type": "code",
   "execution_count": 138,
   "metadata": {},
   "outputs": [],
   "source": [
    "for chapter in memoirs_parts:\n",
    "    records += chapter"
   ]
  },
  {
   "cell_type": "code",
   "execution_count": 111,
   "metadata": {},
   "outputs": [],
   "source": [
    "# RETURN\n",
    "short_titles = [\n",
    "               'The Adventure of the Empty House',\n",
    "               'The Adventure of the Norwood Builder',\n",
    "               'The Adventure of the Dancing Men',\n",
    "               'The Adventure of the Solitary Cyclist',\n",
    "               'The Adventure of the Priory School',\n",
    "               'The Adventure of Black Peter',\n",
    "               'The Adventure of Charles Augustus Milverton',\n",
    "               'The Adventure of the Six Napoleons',\n",
    "               'The Adventure of the Three Students',\n",
    "               'The Adventure of the Golden Pince-Nez',\n",
    "               'The Adventure of the Missing Three-Quarter',\n",
    "               'The Adventure of the Abbey Grange',\n",
    "               'The Adventure of the Second Stain']\n",
    "short_titles = [ele.upper() for ele in short_titles]\n",
    "short_stories_parts = list([])\n",
    "start_idx = 31866\n",
    "end_idx = 44779\n",
    "sen_idx = start_idx\n",
    "num_titles = len(short_titles)\n",
    "for i in range(num_titles):\n",
    "    if i != num_titles - 1:\n",
    "        while short_titles[i+1] not in text[sen_idx]:\n",
    "            sen_idx += 1\n",
    "        short_stories_parts.append(parse_no_part(short_titles[i], start_idx, sen_idx-1, start_idx+1, sen_idx-1, True))\n",
    "        start_idx = sen_idx\n",
    "    else:\n",
    "        short_stories_parts.append(parse_no_part(short_titles[-1], start_idx, end_idx, start_idx+1, end_idx, True))\n",
    "return_parts = short_stories_parts"
   ]
  },
  {
   "cell_type": "code",
   "execution_count": 139,
   "metadata": {},
   "outputs": [],
   "source": [
    "for chapter in return_parts:\n",
    "    records += chapter"
   ]
  },
  {
   "cell_type": "code",
   "execution_count": 140,
   "metadata": {},
   "outputs": [
    {
     "name": "stdout",
     "output_type": "stream",
     "text": [
      "CHAPTER I Mr. Sherlock Holmes\n",
      "CHAPTER II The Curse of the Baskervilles\n",
      "CHAPTER III The Problem\n",
      "CHAPTER IV Sir Henry Baskerville\n",
      "CHAPTER V Three Broken Threads\n",
      "CHAPTER VI Baskerville Hall\n",
      "CHAPTER VII The Stapletons of Merripit House\n",
      "CHAPTER VIII First Report of Dr. Watson\n",
      "CHAPTER IX Second Report of Dr. Watson\n",
      "CHAPTER X Extract from the Diary of Dr. Watson\n",
      "CHAPTER XI The Man on the Tor\n",
      "CHAPTER XII Death on the Moor\n",
      "CHAPTER XIII Fixing the Nets\n",
      "CHAPTER XIV The Hound of the Baskervilles\n",
      "CHAPTER XV A Retrospection\n"
     ]
    }
   ],
   "source": [
    "# THE HOUND OF THE BASKERVILLES\n",
    "hound_part = parse_no_part(\"THE HOUND OF THE BASKERVILLES\", 44785, 51843, 44821, 51843)\n",
    "records += hound_part"
   ]
  },
  {
   "cell_type": "code",
   "execution_count": 141,
   "metadata": {},
   "outputs": [
    {
     "name": "stdout",
     "output_type": "stream",
     "text": [
      "CHAPTER I The Warning\n",
      "CHAPTER II Sherlock Holmes Discourses\n",
      "CHAPTER III The Tragedy of Birlstone\n",
      "CHAPTER IV Darkness\n",
      "CHAPTER V The People Of the Drama\n",
      "CHAPTER VI A Dawning Light\n",
      "CHAPTER VII The Solution\n",
      "CHAPTER I The Man\n",
      "CHAPTER II The Bodymaster\n",
      "CHAPTER III Lodge 341, Vermissa\n",
      "CHAPTER IV The Valley of Fear\n",
      "CHAPTER V The Darkest Hour\n",
      "CHAPTER VI Danger\n",
      "CHAPTER VII The Trapping of Birdy Edwards\n",
      "CHAPTER VIII Epilogue\n"
     ]
    }
   ],
   "source": [
    "# THE VALLEY OF FEAR\n",
    "with open('THE VALLEY OF FEAR.txt', \"w\") as file:\n",
    "    file.write(\"\\n\".join(text[51848:]))\n",
    "\n",
    "# part 1\n",
    "valley_part_1 = get_chapters(\"THE VALLEY OF FEAR\", \"PART I\", text[51901:55177])\n",
    "valley_part_2 = get_chapters(\"THE VALLEY OF FEAR\", 'PART II', text[55193:58847])\n",
    "valley_part = valley_part_1 + valley_part_2\n",
    "records += valley_part"
   ]
  },
  {
   "cell_type": "code",
   "execution_count": 120,
   "metadata": {},
   "outputs": [
    {
     "name": "stdout",
     "output_type": "stream",
     "text": [
      "CHAPTER I The Singular Experience of Mr. John Scott Eccles\n",
      "CHAPTER II The Tiger of San Pedro\n",
      "CHAPTER I Part One\n",
      "CHAPTER II Part Two\n"
     ]
    }
   ],
   "source": [
    "# HIS LAST BOW\n",
    "wisteria_part = parse_no_part('The Adventure of Wisteria Lodge'.upper(), 58882, 60204, 58906, 60204)\n",
    "cardboard_part = parse_no_part('THE ADVENTURE OF THE CARDBOARD BOX', 60209, 61087, 60210, 61087, True)\n",
    "circle_part = parse_no_part(\"THE ADVENTURE OF THE RED CIRCLE\", 61092, 61970, 61116, 61970)\n",
    "short_titles = [\n",
    "              'The Adventure of the Bruce-Partington Plans',\n",
    "               'The Adventure of the Dying Detective',\n",
    "               'The Disappearance of Lady Frances Carfax',\n",
    "               'The Adventure of the Devil\\'s Foot',\n",
    "               'His Last Bow']\n",
    "short_titles = [ele.upper() for ele in short_titles]\n",
    "short_stories_parts = list([])\n",
    "start_idx = 61976\n",
    "end_idx = 66746\n",
    "sen_idx = start_idx\n",
    "num_titles = len(short_titles)\n",
    "for i in range(num_titles):\n",
    "    if i != num_titles - 1:\n",
    "        while short_titles[i+1] not in text[sen_idx]:\n",
    "            sen_idx += 1\n",
    "        short_stories_parts.append(parse_no_part(short_titles[i], start_idx, sen_idx-1, start_idx+1, sen_idx-1, True))\n",
    "        start_idx = sen_idx\n",
    "    else:\n",
    "        short_stories_parts.append(parse_no_part(short_titles[-1], start_idx, end_idx, start_idx+1, end_idx, True))\n",
    "last_row_parts = [wisteria_part, cardboard_part, circle_part] + short_stories_parts"
   ]
  },
  {
   "cell_type": "code",
   "execution_count": 142,
   "metadata": {},
   "outputs": [],
   "source": [
    "for chapter in last_row_parts:\n",
    "    records += chapter"
   ]
  },
  {
   "cell_type": "code",
   "execution_count": 121,
   "metadata": {},
   "outputs": [],
   "source": [
    "# CASE_BOOK\n",
    "short_titles = [\n",
    "               'The Illustrious Client',\n",
    "               'The Blanched Soldier',\n",
    "               'The Adventure Of The Mazarin Stone',\n",
    "               'The Adventure of the Three Gables',\n",
    "               'The Adventure of the Sussex Vampire',\n",
    "               'The Adventure of the Three Garridebs',\n",
    "               'The Problem of Thor Bridge',\n",
    "               'The Adventure of the Creeping Man',\n",
    "               'The Adventure of the Lion\\'s Mane',\n",
    "               'The Adventure of the Veiled Lodger',\n",
    "               'The Adventure of Shoscombe Old Place',\n",
    "               'The Adventure of the Retired Colourman']\n",
    "short_titles = [ele.upper() for ele in short_titles]\n",
    "short_stories_parts = list([])\n",
    "start_idx = 66826\n",
    "end_idx = 76729\n",
    "sen_idx = start_idx\n",
    "num_titles = len(short_titles)\n",
    "for i in range(num_titles):\n",
    "    if i != num_titles - 1:\n",
    "        while short_titles[i+1] not in text[sen_idx]:\n",
    "            sen_idx += 1\n",
    "        short_stories_parts.append(parse_no_part(short_titles[i], start_idx, sen_idx-1, start_idx+1, sen_idx-1, True))\n",
    "        start_idx = sen_idx\n",
    "    else:\n",
    "        short_stories_parts.append(parse_no_part(short_titles[-1], start_idx, end_idx, start_idx+1, end_idx, True))\n",
    "last_row_parts = [wisteria_part, cardboard_part, circle_part] + short_stories_parts"
   ]
  },
  {
   "cell_type": "code",
   "execution_count": 143,
   "metadata": {},
   "outputs": [],
   "source": [
    "for chapter in last_row_parts:\n",
    "    records += chapter"
   ]
  },
  {
   "cell_type": "code",
   "execution_count": 126,
   "metadata": {},
   "outputs": [],
   "source": [
    "# PREFACE\n",
    "pf_bow = parse_no_part(\"PREFACE OF HIS LAST BOW\", 58858, 58877, 58859, 58877, True)\n",
    "pf_case = parse_no_part(\"PREFACE OF CASE-BOOK\", 66756, 66820, 66785, 66820, True)"
   ]
  },
  {
   "cell_type": "code",
   "execution_count": 144,
   "metadata": {},
   "outputs": [],
   "source": [
    "records += pf_bow\n",
    "records += pf_case"
   ]
  },
  {
   "cell_type": "code",
   "execution_count": 145,
   "metadata": {},
   "outputs": [
    {
     "data": {
      "text/plain": [
       "130"
      ]
     },
     "execution_count": 145,
     "metadata": {},
     "output_type": "execute_result"
    }
   ],
   "source": [
    "len(records)"
   ]
  },
  {
   "cell_type": "code",
   "execution_count": null,
   "metadata": {},
   "outputs": [],
   "source": []
  }
 ],
 "metadata": {
  "kernelspec": {
   "display_name": "Python 3",
   "language": "python",
   "name": "python3"
  },
  "language_info": {
   "codemirror_mode": {
    "name": "ipython",
    "version": 3
   },
   "file_extension": ".py",
   "mimetype": "text/x-python",
   "name": "python",
   "nbconvert_exporter": "python",
   "pygments_lexer": "ipython3",
   "version": "3.7.6"
  }
 },
 "nbformat": 4,
 "nbformat_minor": 4
}
